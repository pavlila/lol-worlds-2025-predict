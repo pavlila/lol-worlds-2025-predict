{
 "cells": [
  {
   "cell_type": "code",
   "execution_count": 12,
   "id": "0201896c",
   "metadata": {},
   "outputs": [],
   "source": [
    "import pandas as pd\n",
    "\n",
    "df = pd.read_csv(\"../data/raw/matches_summer.csv\", sep=r'\\t|\\s{2,}', engine='python')"
   ]
  },
  {
   "cell_type": "code",
   "execution_count": 13,
   "id": "94d93960",
   "metadata": {},
   "outputs": [
    {
     "name": "stdout",
     "output_type": "stream",
     "text": [
      "[ 11   0 101 100  10]\n"
     ]
    }
   ],
   "source": [
    "print(df['games_in_series'].unique())\n"
   ]
  },
  {
   "cell_type": "code",
   "execution_count": null,
   "id": "dd8a8a5c",
   "metadata": {},
   "outputs": [],
   "source": []
  }
 ],
 "metadata": {
  "kernelspec": {
   "display_name": "venv",
   "language": "python",
   "name": "python3"
  },
  "language_info": {
   "codemirror_mode": {
    "name": "ipython",
    "version": 3
   },
   "file_extension": ".py",
   "mimetype": "text/x-python",
   "name": "python",
   "nbconvert_exporter": "python",
   "pygments_lexer": "ipython3",
   "version": "3.12.3"
  }
 },
 "nbformat": 4,
 "nbformat_minor": 5
}
