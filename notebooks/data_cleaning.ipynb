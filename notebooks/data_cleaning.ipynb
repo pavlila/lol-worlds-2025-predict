{
 "cells": [
  {
   "cell_type": "code",
   "execution_count": 29,
   "id": "fef3f8ca",
   "metadata": {},
   "outputs": [],
   "source": [
    "import pandas as pd\n",
    "import numpy as np"
   ]
  },
  {
   "cell_type": "code",
   "execution_count": 30,
   "id": "01efdcb2",
   "metadata": {},
   "outputs": [],
   "source": [
    "matches_spring = pd.read_csv(\"../data/matches_spring.csv\", sep=';')\n",
    "teams_spring = pd.read_csv(\"../data/teams_spring.csv\", sep=';')"
   ]
  },
  {
   "cell_type": "code",
   "execution_count": 31,
   "id": "eadda88a",
   "metadata": {},
   "outputs": [],
   "source": [
    "data = matches_spring.merge(teams_spring, how='left', left_on='teamA', right_on='Name')\n",
    "data = data.rename(columns=lambda x: x if x in ['teamA','teamB','winA'] else f\"{x}_A\")\n",
    "data = data.drop(columns=['Name_A'], errors='ignore')"
   ]
  },
  {
   "cell_type": "code",
   "execution_count": 32,
   "id": "5ab3298d",
   "metadata": {},
   "outputs": [],
   "source": [
    "data = data.merge(teams_spring, how='left', left_on='teamB', right_on='Name')\n",
    "data = data.rename(columns=lambda x: x if x in ['teamA','teamB','winA'] or x.endswith('_A') else f\"{x}_B\")\n",
    "data = data.drop(columns=['Name_B'], errors='ignore')"
   ]
  },
  {
   "cell_type": "code",
   "execution_count": 33,
   "id": "e0c2f26f",
   "metadata": {},
   "outputs": [],
   "source": [
    "data.to_csv('../data/spring.csv', index=False, sep=';')"
   ]
  },
  {
   "cell_type": "code",
   "execution_count": 2,
   "id": "b512e9cc",
   "metadata": {},
   "outputs": [
    {
     "ename": "KeyError",
     "evalue": "\"None of [Index(['teamA', 'scoreA', 'scoreB', 'teamB'], dtype='object')] are in the [columns]\"",
     "output_type": "error",
     "traceback": [
      "\u001b[31m---------------------------------------------------------------------------\u001b[39m",
      "\u001b[31mKeyError\u001b[39m                                  Traceback (most recent call last)",
      "\u001b[36mCell\u001b[39m\u001b[36m \u001b[39m\u001b[32mIn[2]\u001b[39m\u001b[32m, line 23\u001b[39m\n\u001b[32m     20\u001b[39m matches_winter = pd.read_csv(\u001b[33m\"\u001b[39m\u001b[33m../data/raw/matches_winter.csv\u001b[39m\u001b[33m\"\u001b[39m, sep=\u001b[33m'\u001b[39m\u001b[38;5;130;01m\\t\u001b[39;00m\u001b[33m'\u001b[39m)\n\u001b[32m     21\u001b[39m matches_spring = pd.read_csv(\u001b[33m\"\u001b[39m\u001b[33m../data/raw/matches_spring.csv\u001b[39m\u001b[33m\"\u001b[39m, sep=\u001b[33m'\u001b[39m\u001b[38;5;130;01m\\t\u001b[39;00m\u001b[33m'\u001b[39m)\n\u001b[32m---> \u001b[39m\u001b[32m23\u001b[39m matches_winter = \u001b[43mmatchesClean\u001b[49m\u001b[43m(\u001b[49m\u001b[43mmatches_winter\u001b[49m\u001b[43m)\u001b[49m\n\u001b[32m     24\u001b[39m matches_spring = matchesClean(matches_spring)\n\u001b[32m     26\u001b[39m matches_winter.to_csv(\u001b[33m\"\u001b[39m\u001b[33m../../data/cleaned/matches_winter.csv\u001b[39m\u001b[33m\"\u001b[39m, sep=\u001b[33m'\u001b[39m\u001b[33m;\u001b[39m\u001b[33m'\u001b[39m)\n",
      "\u001b[36mCell\u001b[39m\u001b[36m \u001b[39m\u001b[32mIn[2]\u001b[39m\u001b[32m, line 5\u001b[39m, in \u001b[36mmatchesClean\u001b[39m\u001b[34m(df, prefix)\u001b[39m\n\u001b[32m      3\u001b[39m \u001b[38;5;28;01mdef\u001b[39;00m\u001b[38;5;250m \u001b[39m\u001b[34mmatchesClean\u001b[39m(df, prefix=\u001b[33m'\u001b[39m\u001b[33m'\u001b[39m):\n\u001b[32m      4\u001b[39m     df.columns = df.columns.str.strip()\n\u001b[32m----> \u001b[39m\u001b[32m5\u001b[39m     df = \u001b[43mdf\u001b[49m\u001b[43m[\u001b[49m\u001b[43m[\u001b[49m\u001b[33;43m'\u001b[39;49m\u001b[33;43mteamA\u001b[39;49m\u001b[33;43m'\u001b[39;49m\u001b[43m,\u001b[49m\u001b[33;43m'\u001b[39;49m\u001b[33;43mscoreA\u001b[39;49m\u001b[33;43m'\u001b[39;49m\u001b[43m,\u001b[49m\u001b[33;43m'\u001b[39;49m\u001b[33;43mscoreB\u001b[39;49m\u001b[33;43m'\u001b[39;49m\u001b[43m,\u001b[49m\u001b[33;43m'\u001b[39;49m\u001b[33;43mteamB\u001b[39;49m\u001b[33;43m'\u001b[39;49m\u001b[43m]\u001b[49m\u001b[43m]\u001b[49m.copy()\n\u001b[32m      6\u001b[39m     df[\u001b[33m'\u001b[39m\u001b[33mmatch_id\u001b[39m\u001b[33m'\u001b[39m] = prefix + df.index.astype(\u001b[38;5;28mstr\u001b[39m)\n\u001b[32m      8\u001b[39m     \u001b[38;5;28;01mdef\u001b[39;00m\u001b[38;5;250m \u001b[39m\u001b[34mdevideMatchOnMaps\u001b[39m(row):\n",
      "\u001b[36mFile \u001b[39m\u001b[32m~/git-private/lol-worlds-2025-predict/venv/lib/python3.12/site-packages/pandas/core/frame.py:4113\u001b[39m, in \u001b[36mDataFrame.__getitem__\u001b[39m\u001b[34m(self, key)\u001b[39m\n\u001b[32m   4111\u001b[39m     \u001b[38;5;28;01mif\u001b[39;00m is_iterator(key):\n\u001b[32m   4112\u001b[39m         key = \u001b[38;5;28mlist\u001b[39m(key)\n\u001b[32m-> \u001b[39m\u001b[32m4113\u001b[39m     indexer = \u001b[38;5;28;43mself\u001b[39;49m\u001b[43m.\u001b[49m\u001b[43mcolumns\u001b[49m\u001b[43m.\u001b[49m\u001b[43m_get_indexer_strict\u001b[49m\u001b[43m(\u001b[49m\u001b[43mkey\u001b[49m\u001b[43m,\u001b[49m\u001b[43m \u001b[49m\u001b[33;43m\"\u001b[39;49m\u001b[33;43mcolumns\u001b[39;49m\u001b[33;43m\"\u001b[39;49m\u001b[43m)\u001b[49m[\u001b[32m1\u001b[39m]\n\u001b[32m   4115\u001b[39m \u001b[38;5;66;03m# take() does not accept boolean indexers\u001b[39;00m\n\u001b[32m   4116\u001b[39m \u001b[38;5;28;01mif\u001b[39;00m \u001b[38;5;28mgetattr\u001b[39m(indexer, \u001b[33m\"\u001b[39m\u001b[33mdtype\u001b[39m\u001b[33m\"\u001b[39m, \u001b[38;5;28;01mNone\u001b[39;00m) == \u001b[38;5;28mbool\u001b[39m:\n",
      "\u001b[36mFile \u001b[39m\u001b[32m~/git-private/lol-worlds-2025-predict/venv/lib/python3.12/site-packages/pandas/core/indexes/base.py:6212\u001b[39m, in \u001b[36mIndex._get_indexer_strict\u001b[39m\u001b[34m(self, key, axis_name)\u001b[39m\n\u001b[32m   6209\u001b[39m \u001b[38;5;28;01melse\u001b[39;00m:\n\u001b[32m   6210\u001b[39m     keyarr, indexer, new_indexer = \u001b[38;5;28mself\u001b[39m._reindex_non_unique(keyarr)\n\u001b[32m-> \u001b[39m\u001b[32m6212\u001b[39m \u001b[38;5;28;43mself\u001b[39;49m\u001b[43m.\u001b[49m\u001b[43m_raise_if_missing\u001b[49m\u001b[43m(\u001b[49m\u001b[43mkeyarr\u001b[49m\u001b[43m,\u001b[49m\u001b[43m \u001b[49m\u001b[43mindexer\u001b[49m\u001b[43m,\u001b[49m\u001b[43m \u001b[49m\u001b[43maxis_name\u001b[49m\u001b[43m)\u001b[49m\n\u001b[32m   6214\u001b[39m keyarr = \u001b[38;5;28mself\u001b[39m.take(indexer)\n\u001b[32m   6215\u001b[39m \u001b[38;5;28;01mif\u001b[39;00m \u001b[38;5;28misinstance\u001b[39m(key, Index):\n\u001b[32m   6216\u001b[39m     \u001b[38;5;66;03m# GH 42790 - Preserve name from an Index\u001b[39;00m\n",
      "\u001b[36mFile \u001b[39m\u001b[32m~/git-private/lol-worlds-2025-predict/venv/lib/python3.12/site-packages/pandas/core/indexes/base.py:6261\u001b[39m, in \u001b[36mIndex._raise_if_missing\u001b[39m\u001b[34m(self, key, indexer, axis_name)\u001b[39m\n\u001b[32m   6259\u001b[39m \u001b[38;5;28;01mif\u001b[39;00m nmissing:\n\u001b[32m   6260\u001b[39m     \u001b[38;5;28;01mif\u001b[39;00m nmissing == \u001b[38;5;28mlen\u001b[39m(indexer):\n\u001b[32m-> \u001b[39m\u001b[32m6261\u001b[39m         \u001b[38;5;28;01mraise\u001b[39;00m \u001b[38;5;167;01mKeyError\u001b[39;00m(\u001b[33mf\u001b[39m\u001b[33m\"\u001b[39m\u001b[33mNone of [\u001b[39m\u001b[38;5;132;01m{\u001b[39;00mkey\u001b[38;5;132;01m}\u001b[39;00m\u001b[33m] are in the [\u001b[39m\u001b[38;5;132;01m{\u001b[39;00maxis_name\u001b[38;5;132;01m}\u001b[39;00m\u001b[33m]\u001b[39m\u001b[33m\"\u001b[39m)\n\u001b[32m   6263\u001b[39m     not_found = \u001b[38;5;28mlist\u001b[39m(ensure_index(key)[missing_mask.nonzero()[\u001b[32m0\u001b[39m]].unique())\n\u001b[32m   6264\u001b[39m     \u001b[38;5;28;01mraise\u001b[39;00m \u001b[38;5;167;01mKeyError\u001b[39;00m(\u001b[33mf\u001b[39m\u001b[33m\"\u001b[39m\u001b[38;5;132;01m{\u001b[39;00mnot_found\u001b[38;5;132;01m}\u001b[39;00m\u001b[33m not in index\u001b[39m\u001b[33m\"\u001b[39m)\n",
      "\u001b[31mKeyError\u001b[39m: \"None of [Index(['teamA', 'scoreA', 'scoreB', 'teamB'], dtype='object')] are in the [columns]\""
     ]
    }
   ],
   "source": [
    "import pandas as pd\n",
    "\n",
    "def matchesClean(df, prefix=''):\n",
    "    df.columns = df.columns.str.strip()\n",
    "    df = df[['teamA','scoreA','scoreB','teamB']].copy()\n",
    "    df['match_id'] = prefix + df.index.astype(str)\n",
    "\n",
    "    def devideMatchOnMaps(row):\n",
    "        results = [1]*int(row['scoreA']) + [0]*int(row['scoreB'])\n",
    "        return pd.DataFrame([{\n",
    "            'match_id': row['match_id'],\n",
    "            'game_in_series': i + 1,\n",
    "            'teamA': row['teamA'],\n",
    "            'teamB': row['teamB'],\n",
    "            'teamA_win': win\n",
    "        } for i, win in enumerate(results)])\n",
    "    \n",
    "    return pd.concat(df.apply(devideMatchOnMaps, axis=1).tolist(), ignore_index=True)\n",
    "\n",
    "matches_winter = pd.read_csv(\"../data/raw/matches_winter.csv\", sep='\\t')\n",
    "matches_spring = pd.read_csv(\"../data/raw/matches_spring.csv\", sep='\\t')\n",
    "\n",
    "matches_winter = matchesClean(matches_winter)\n",
    "matches_spring = matchesClean(matches_spring)\n",
    "\n",
    "matches_winter.to_csv(\"../../data/cleaned/matches_winter.csv\", sep=';')\n",
    "matches_spring.to_csv(\"../../data/cleaned/matches_spring.csv\", sep=';')"
   ]
  },
  {
   "cell_type": "code",
   "execution_count": 6,
   "id": "535c4410",
   "metadata": {},
   "outputs": [],
   "source": [
    "matches_winter = pd.read_csv(\"../data/raw/matches_winter.csv\", sep=r'\\t|\\s{2,}', engine='python')\n",
    "matches_spring = pd.read_csv(\"../data/raw/matches_spring.csv\", sep=r'\\t|\\s{2,}', engine='python')"
   ]
  },
  {
   "cell_type": "code",
   "execution_count": 7,
   "id": "7ddab949",
   "metadata": {},
   "outputs": [
    {
     "data": {
      "text/plain": [
       "(711, 8)"
      ]
     },
     "execution_count": 7,
     "metadata": {},
     "output_type": "execute_result"
    }
   ],
   "source": [
    "matches_spring.shape"
   ]
  },
  {
   "cell_type": "code",
   "execution_count": null,
   "id": "ed12d40f",
   "metadata": {},
   "outputs": [],
   "source": []
  }
 ],
 "metadata": {
  "kernelspec": {
   "display_name": "venv",
   "language": "python",
   "name": "python3"
  },
  "language_info": {
   "codemirror_mode": {
    "name": "ipython",
    "version": 3
   },
   "file_extension": ".py",
   "mimetype": "text/x-python",
   "name": "python",
   "nbconvert_exporter": "python",
   "pygments_lexer": "ipython3",
   "version": "3.12.3"
  }
 },
 "nbformat": 4,
 "nbformat_minor": 5
}
