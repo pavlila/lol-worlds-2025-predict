{
 "cells": [
  {
   "cell_type": "code",
   "execution_count": 29,
   "id": "fef3f8ca",
   "metadata": {},
   "outputs": [],
   "source": [
    "import pandas as pd\n",
    "import numpy as np"
   ]
  },
  {
   "cell_type": "code",
   "execution_count": 30,
   "id": "01efdcb2",
   "metadata": {},
   "outputs": [],
   "source": [
    "matches_spring = pd.read_csv(\"../data/matches_spring.csv\", sep=';')\n",
    "teams_spring = pd.read_csv(\"../data/teams_spring.csv\", sep=';')"
   ]
  },
  {
   "cell_type": "code",
   "execution_count": 31,
   "id": "eadda88a",
   "metadata": {},
   "outputs": [],
   "source": [
    "data = matches_spring.merge(teams_spring, how='left', left_on='teamA', right_on='Name')\n",
    "data = data.rename(columns=lambda x: x if x in ['teamA','teamB','winA'] else f\"{x}_A\")\n",
    "data = data.drop(columns=['Name_A'], errors='ignore')"
   ]
  },
  {
   "cell_type": "code",
   "execution_count": 32,
   "id": "5ab3298d",
   "metadata": {},
   "outputs": [],
   "source": [
    "data = data.merge(teams_spring, how='left', left_on='teamB', right_on='Name')\n",
    "data = data.rename(columns=lambda x: x if x in ['teamA','teamB','winA'] or x.endswith('_A') else f\"{x}_B\")\n",
    "data = data.drop(columns=['Name_B'], errors='ignore')"
   ]
  },
  {
   "cell_type": "code",
   "execution_count": 33,
   "id": "e0c2f26f",
   "metadata": {},
   "outputs": [],
   "source": [
    "data.to_csv('../data/spring.csv', index=False, sep=';')"
   ]
  },
  {
   "cell_type": "code",
   "execution_count": 12,
   "id": "b512e9cc",
   "metadata": {},
   "outputs": [],
   "source": [
    "import pandas as pd\n",
    "\n",
    "def matchesClean(df, prefix=''):\n",
    "    df.columns = df.columns.str.strip()\n",
    "    df = df[['teamA','scoreA','scoreB','teamB']].copy()\n",
    "    df['match_id'] = prefix + df.index.astype(str)\n",
    "\n",
    "    def devideMatchOnMaps(row):\n",
    "        results = [1]*int(row['scoreA']) + [0]*int(row['scoreB'])\n",
    "        return pd.DataFrame([{\n",
    "            'match_id': row['match_id'],\n",
    "            'game_in_series': i + 1,\n",
    "            'teamA': row['teamA'],\n",
    "            'teamB': row['teamB'],\n",
    "            'teamA_win': win\n",
    "        } for i, win in enumerate(results)])\n",
    "    \n",
    "    return pd.concat(df.apply(devideMatchOnMaps, axis=1).tolist(), ignore_index=True)\n",
    "\n",
    "matches_winter = pd.read_csv(\"../data/raw/matches_winter.csv\", sep=r'\\t|\\s{2,}', engine='python')\n",
    "matches_spring = pd.read_csv(\"../data/raw/matches_spring.csv\", sep=r'\\t|\\s{2,}', engine='python')\n",
    "\n",
    "matches_winter = matchesClean(matches_winter)\n",
    "matches_spring = matchesClean(matches_spring)\n",
    "\n",
    "matches_winter.to_csv(\"../data/cleaned/matches_winter.csv\", sep=';')\n",
    "matches_spring.to_csv(\"../data/cleaned/matches_spring.csv\", sep=';')"
   ]
  },
  {
   "cell_type": "code",
   "execution_count": 8,
   "id": "535c4410",
   "metadata": {},
   "outputs": [],
   "source": [
    "matches_winter = pd.read_csv(\"../data/raw/matches_winter.csv\", sep=r'\\t|\\s{2,}', engine='python')\n",
    "matches_spring = pd.read_csv(\"../data/raw/matches_spring.csv\", sep=r'\\t|\\s{2,}', engine='python')"
   ]
  },
  {
   "cell_type": "code",
   "execution_count": 7,
   "id": "7ddab949",
   "metadata": {},
   "outputs": [
    {
     "data": {
      "text/plain": [
       "(711, 8)"
      ]
     },
     "execution_count": 7,
     "metadata": {},
     "output_type": "execute_result"
    }
   ],
   "source": [
    "matches_spring.shape"
   ]
  },
  {
   "cell_type": "code",
   "execution_count": null,
   "id": "ed12d40f",
   "metadata": {},
   "outputs": [],
   "source": []
  }
 ],
 "metadata": {
  "kernelspec": {
   "display_name": "venv",
   "language": "python",
   "name": "python3"
  },
  "language_info": {
   "codemirror_mode": {
    "name": "ipython",
    "version": 3
   },
   "file_extension": ".py",
   "mimetype": "text/x-python",
   "name": "python",
   "nbconvert_exporter": "python",
   "pygments_lexer": "ipython3",
   "version": "3.12.3"
  }
 },
 "nbformat": 4,
 "nbformat_minor": 5
}
