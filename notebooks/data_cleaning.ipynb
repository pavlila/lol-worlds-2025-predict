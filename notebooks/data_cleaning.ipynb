{
 "cells": [
  {
   "cell_type": "code",
   "execution_count": 29,
   "id": "fef3f8ca",
   "metadata": {},
   "outputs": [],
   "source": [
    "import pandas as pd\n",
    "import numpy as np"
   ]
  },
  {
   "cell_type": "code",
   "execution_count": 30,
   "id": "01efdcb2",
   "metadata": {},
   "outputs": [],
   "source": [
    "matches_spring = pd.read_csv(\"../data/matches_spring.csv\", sep=';')\n",
    "teams_spring = pd.read_csv(\"../data/teams_spring.csv\", sep=';')"
   ]
  },
  {
   "cell_type": "code",
   "execution_count": 31,
   "id": "eadda88a",
   "metadata": {},
   "outputs": [],
   "source": [
    "data = matches_spring.merge(teams_spring, how='left', left_on='teamA', right_on='Name')\n",
    "data = data.rename(columns=lambda x: x if x in ['teamA','teamB','winA'] else f\"{x}_A\")\n",
    "data = data.drop(columns=['Name_A'], errors='ignore')"
   ]
  },
  {
   "cell_type": "code",
   "execution_count": 32,
   "id": "5ab3298d",
   "metadata": {},
   "outputs": [],
   "source": [
    "data = data.merge(teams_spring, how='left', left_on='teamB', right_on='Name')\n",
    "data = data.rename(columns=lambda x: x if x in ['teamA','teamB','winA'] or x.endswith('_A') else f\"{x}_B\")\n",
    "data = data.drop(columns=['Name_B'], errors='ignore')"
   ]
  },
  {
   "cell_type": "code",
   "execution_count": 33,
   "id": "e0c2f26f",
   "metadata": {},
   "outputs": [],
   "source": [
    "data.to_csv('../data/spring.csv', index=False, sep=';')"
   ]
  },
  {
   "cell_type": "code",
   "execution_count": null,
   "id": "b512e9cc",
   "metadata": {},
   "outputs": [],
   "source": []
  }
 ],
 "metadata": {
  "kernelspec": {
   "display_name": "venv",
   "language": "python",
   "name": "python3"
  },
  "language_info": {
   "codemirror_mode": {
    "name": "ipython",
    "version": 3
   },
   "file_extension": ".py",
   "mimetype": "text/x-python",
   "name": "python",
   "nbconvert_exporter": "python",
   "pygments_lexer": "ipython3",
   "version": "3.12.3"
  }
 },
 "nbformat": 4,
 "nbformat_minor": 5
}
