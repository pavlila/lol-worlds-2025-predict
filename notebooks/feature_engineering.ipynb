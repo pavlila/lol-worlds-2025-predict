{
 "cells": [
  {
   "cell_type": "code",
   "execution_count": 18,
   "id": "07b3db22",
   "metadata": {},
   "outputs": [],
   "source": [
    "import pandas as pd\n",
    "import numpy as np"
   ]
  },
  {
   "cell_type": "code",
   "execution_count": 19,
   "id": "535be4e6",
   "metadata": {},
   "outputs": [],
   "source": [
    "data = pd.read_csv(\"../data/spring.csv\", sep=';')"
   ]
  },
  {
   "cell_type": "code",
   "execution_count": 20,
   "id": "01421a7b",
   "metadata": {},
   "outputs": [
    {
     "data": {
      "text/plain": [
       "Index(['teamA', 'teamB', 'winA', 'Season_A', 'Region_A', 'Games_A',\n",
       "       'Win rate_A', 'K:D_A', 'GPM_A', 'GDM_A', 'Game duration_A',\n",
       "       'Kills / game_A', 'Deaths / game_A', 'Towers killed_A', 'Towers lost_A',\n",
       "       'FB%_A', 'FT%_A', 'FOS%_A', 'DRAPG_A', 'DRA%_A', 'VGPG_A', 'HER%_A',\n",
       "       'ATAKHAN%_A', 'DRA@15_A', 'TD@15_A', 'GD@15_A', 'PPG_A', 'NASHPG_A',\n",
       "       'NASH%_A', 'CSM_A', 'DPM_A', 'WPM_A', 'VWPM_A', 'WCPM_A', 'Season_B',\n",
       "       'Region_B', 'Games_B', 'Win rate_B', 'K:D_B', 'GPM_B', 'GDM_B',\n",
       "       'Game duration_B', 'Kills / game_B', 'Deaths / game_B',\n",
       "       'Towers killed_B', 'Towers lost_B', 'FB%_B', 'FT%_B', 'FOS%_B',\n",
       "       'DRAPG_B', 'DRA%_B', 'VGPG_B', 'HER%_B', 'ATAKHAN%_B', 'DRA@15_B',\n",
       "       'TD@15_B', 'GD@15_B', 'PPG_B', 'NASHPG_B', 'NASH%_B', 'CSM_B', 'DPM_B',\n",
       "       'WPM_B', 'VWPM_B', 'WCPM_B'],\n",
       "      dtype='object')"
      ]
     },
     "execution_count": 20,
     "metadata": {},
     "output_type": "execute_result"
    }
   ],
   "source": [
    "data.columns"
   ]
  },
  {
   "cell_type": "code",
   "execution_count": 21,
   "id": "152ced84",
   "metadata": {},
   "outputs": [],
   "source": [
    "data = data.drop(columns=['Season_B','Season_A'])"
   ]
  },
  {
   "cell_type": "code",
   "execution_count": 23,
   "id": "fc805d66",
   "metadata": {},
   "outputs": [
    {
     "name": "stdout",
     "output_type": "stream",
     "text": [
      "<class 'pandas.core.frame.DataFrame'>\n",
      "RangeIndex: 656 entries, 0 to 655\n",
      "Data columns (total 63 columns):\n",
      " #   Column           Non-Null Count  Dtype  \n",
      "---  ------           --------------  -----  \n",
      " 0   teamA            656 non-null    object \n",
      " 1   teamB            656 non-null    object \n",
      " 2   winA             656 non-null    int64  \n",
      " 3   Region_A         315 non-null    object \n",
      " 4   Games_A          367 non-null    float64\n",
      " 5   Win rate_A       367 non-null    object \n",
      " 6   K:D_A            367 non-null    float64\n",
      " 7   GPM_A            367 non-null    float64\n",
      " 8   GDM_A            367 non-null    float64\n",
      " 9   Game duration_A  367 non-null    object \n",
      " 10  Kills / game_A   367 non-null    float64\n",
      " 11  Deaths / game_A  367 non-null    float64\n",
      " 12  Towers killed_A  367 non-null    float64\n",
      " 13  Towers lost_A    367 non-null    float64\n",
      " 14  FB%_A            367 non-null    float64\n",
      " 15  FT%_A            367 non-null    float64\n",
      " 16  FOS%_A           367 non-null    float64\n",
      " 17  DRAPG_A          367 non-null    float64\n",
      " 18  DRA%_A           367 non-null    float64\n",
      " 19  VGPG_A           367 non-null    float64\n",
      " 20  HER%_A           367 non-null    float64\n",
      " 21  ATAKHAN%_A       367 non-null    object \n",
      " 22  DRA@15_A         367 non-null    object \n",
      " 23  TD@15_A          367 non-null    object \n",
      " 24  GD@15_A          367 non-null    float64\n",
      " 25  PPG_A            367 non-null    object \n",
      " 26  NASHPG_A         367 non-null    float64\n",
      " 27  NASH%_A          367 non-null    float64\n",
      " 28  CSM_A            367 non-null    float64\n",
      " 29  DPM_A            367 non-null    float64\n",
      " 30  WPM_A            367 non-null    float64\n",
      " 31  VWPM_A           367 non-null    float64\n",
      " 32  WCPM_A           367 non-null    float64\n",
      " 33  Region_B         318 non-null    object \n",
      " 34  Games_B          370 non-null    float64\n",
      " 35  Win rate_B       370 non-null    object \n",
      " 36  K:D_B            370 non-null    float64\n",
      " 37  GPM_B            370 non-null    float64\n",
      " 38  GDM_B            370 non-null    float64\n",
      " 39  Game duration_B  370 non-null    object \n",
      " 40  Kills / game_B   370 non-null    float64\n",
      " 41  Deaths / game_B  370 non-null    float64\n",
      " 42  Towers killed_B  370 non-null    float64\n",
      " 43  Towers lost_B    370 non-null    float64\n",
      " 44  FB%_B            370 non-null    float64\n",
      " 45  FT%_B            370 non-null    float64\n",
      " 46  FOS%_B           370 non-null    float64\n",
      " 47  DRAPG_B          370 non-null    float64\n",
      " 48  DRA%_B           370 non-null    float64\n",
      " 49  VGPG_B           370 non-null    float64\n",
      " 50  HER%_B           370 non-null    float64\n",
      " 51  ATAKHAN%_B       370 non-null    object \n",
      " 52  DRA@15_B         370 non-null    object \n",
      " 53  TD@15_B          370 non-null    object \n",
      " 54  GD@15_B          370 non-null    float64\n",
      " 55  PPG_B            370 non-null    object \n",
      " 56  NASHPG_B         370 non-null    float64\n",
      " 57  NASH%_B          370 non-null    float64\n",
      " 58  CSM_B            370 non-null    float64\n",
      " 59  DPM_B            370 non-null    float64\n",
      " 60  WPM_B            370 non-null    float64\n",
      " 61  VWPM_B           370 non-null    float64\n",
      " 62  WCPM_B           370 non-null    float64\n",
      "dtypes: float64(46), int64(1), object(16)\n",
      "memory usage: 323.0+ KB\n",
      "None\n"
     ]
    }
   ],
   "source": [
    "print(data.info())"
   ]
  },
  {
   "cell_type": "code",
   "execution_count": 22,
   "id": "634a5c80",
   "metadata": {},
   "outputs": [
    {
     "name": "stdout",
     "output_type": "stream",
     "text": [
      "Index(['teamA', 'teamB', 'Region_A', 'Win rate_A', 'Game duration_A',\n",
      "       'ATAKHAN%_A', 'DRA@15_A', 'TD@15_A', 'PPG_A', 'Region_B', 'Win rate_B',\n",
      "       'Game duration_B', 'ATAKHAN%_B', 'DRA@15_B', 'TD@15_B', 'PPG_B'],\n",
      "      dtype='object')\n"
     ]
    },
    {
     "data": {
      "text/plain": [
       "teamA              98\n",
       "teamB              98\n",
       "Region_A            8\n",
       "Win rate_A         45\n",
       "Game duration_A    47\n",
       "ATAKHAN%_A         38\n",
       "DRA@15_A           26\n",
       "TD@15_A             9\n",
       "PPG_A              34\n",
       "Region_B            8\n",
       "Win rate_B         45\n",
       "Game duration_B    47\n",
       "ATAKHAN%_B         38\n",
       "DRA@15_B           26\n",
       "TD@15_B             9\n",
       "PPG_B              34\n",
       "dtype: int64"
      ]
     },
     "execution_count": 22,
     "metadata": {},
     "output_type": "execute_result"
    }
   ],
   "source": [
    "print(data.select_dtypes(['object']).columns)\n",
    "data.select_dtypes(['object']).nunique()\n",
    "data.select_dtypes(['object']).nunique()"
   ]
  },
  {
   "cell_type": "code",
   "execution_count": 24,
   "id": "ac6c626b",
   "metadata": {},
   "outputs": [],
   "source": [
    "data[data.select_dtypes(['object']).columns] =data.select_dtypes(['object']).astype('category')"
   ]
  },
  {
   "cell_type": "code",
   "execution_count": 25,
   "id": "da526fc9",
   "metadata": {},
   "outputs": [
    {
     "name": "stdout",
     "output_type": "stream",
     "text": [
      "<class 'pandas.core.frame.DataFrame'>\n",
      "RangeIndex: 656 entries, 0 to 655\n",
      "Data columns (total 63 columns):\n",
      " #   Column           Non-Null Count  Dtype   \n",
      "---  ------           --------------  -----   \n",
      " 0   teamA            656 non-null    category\n",
      " 1   teamB            656 non-null    category\n",
      " 2   winA             656 non-null    int64   \n",
      " 3   Region_A         315 non-null    category\n",
      " 4   Games_A          367 non-null    float64 \n",
      " 5   Win rate_A       367 non-null    category\n",
      " 6   K:D_A            367 non-null    float64 \n",
      " 7   GPM_A            367 non-null    float64 \n",
      " 8   GDM_A            367 non-null    float64 \n",
      " 9   Game duration_A  367 non-null    category\n",
      " 10  Kills / game_A   367 non-null    float64 \n",
      " 11  Deaths / game_A  367 non-null    float64 \n",
      " 12  Towers killed_A  367 non-null    float64 \n",
      " 13  Towers lost_A    367 non-null    float64 \n",
      " 14  FB%_A            367 non-null    float64 \n",
      " 15  FT%_A            367 non-null    float64 \n",
      " 16  FOS%_A           367 non-null    float64 \n",
      " 17  DRAPG_A          367 non-null    float64 \n",
      " 18  DRA%_A           367 non-null    float64 \n",
      " 19  VGPG_A           367 non-null    float64 \n",
      " 20  HER%_A           367 non-null    float64 \n",
      " 21  ATAKHAN%_A       367 non-null    category\n",
      " 22  DRA@15_A         367 non-null    category\n",
      " 23  TD@15_A          367 non-null    category\n",
      " 24  GD@15_A          367 non-null    float64 \n",
      " 25  PPG_A            367 non-null    category\n",
      " 26  NASHPG_A         367 non-null    float64 \n",
      " 27  NASH%_A          367 non-null    float64 \n",
      " 28  CSM_A            367 non-null    float64 \n",
      " 29  DPM_A            367 non-null    float64 \n",
      " 30  WPM_A            367 non-null    float64 \n",
      " 31  VWPM_A           367 non-null    float64 \n",
      " 32  WCPM_A           367 non-null    float64 \n",
      " 33  Region_B         318 non-null    category\n",
      " 34  Games_B          370 non-null    float64 \n",
      " 35  Win rate_B       370 non-null    category\n",
      " 36  K:D_B            370 non-null    float64 \n",
      " 37  GPM_B            370 non-null    float64 \n",
      " 38  GDM_B            370 non-null    float64 \n",
      " 39  Game duration_B  370 non-null    category\n",
      " 40  Kills / game_B   370 non-null    float64 \n",
      " 41  Deaths / game_B  370 non-null    float64 \n",
      " 42  Towers killed_B  370 non-null    float64 \n",
      " 43  Towers lost_B    370 non-null    float64 \n",
      " 44  FB%_B            370 non-null    float64 \n",
      " 45  FT%_B            370 non-null    float64 \n",
      " 46  FOS%_B           370 non-null    float64 \n",
      " 47  DRAPG_B          370 non-null    float64 \n",
      " 48  DRA%_B           370 non-null    float64 \n",
      " 49  VGPG_B           370 non-null    float64 \n",
      " 50  HER%_B           370 non-null    float64 \n",
      " 51  ATAKHAN%_B       370 non-null    category\n",
      " 52  DRA@15_B         370 non-null    category\n",
      " 53  TD@15_B          370 non-null    category\n",
      " 54  GD@15_B          370 non-null    float64 \n",
      " 55  PPG_B            370 non-null    category\n",
      " 56  NASHPG_B         370 non-null    float64 \n",
      " 57  NASH%_B          370 non-null    float64 \n",
      " 58  CSM_B            370 non-null    float64 \n",
      " 59  DPM_B            370 non-null    float64 \n",
      " 60  WPM_B            370 non-null    float64 \n",
      " 61  VWPM_B           370 non-null    float64 \n",
      " 62  WCPM_B           370 non-null    float64 \n",
      "dtypes: category(16), float64(46), int64(1)\n",
      "memory usage: 271.8 KB\n",
      "None\n"
     ]
    }
   ],
   "source": [
    "print(data.info())"
   ]
  },
  {
   "cell_type": "code",
   "execution_count": 26,
   "id": "7a4de9e2",
   "metadata": {},
   "outputs": [
    {
     "name": "stdout",
     "output_type": "stream",
     "text": [
      "<class 'pandas.core.frame.DataFrame'>\n",
      "RangeIndex: 656 entries, 0 to 655\n",
      "Data columns (total 63 columns):\n",
      " #   Column           Non-Null Count  Dtype  \n",
      "---  ------           --------------  -----  \n",
      " 0   teamA            656 non-null    int8   \n",
      " 1   teamB            656 non-null    int8   \n",
      " 2   winA             656 non-null    int64  \n",
      " 3   Region_A         656 non-null    int8   \n",
      " 4   Games_A          367 non-null    float64\n",
      " 5   Win rate_A       656 non-null    int8   \n",
      " 6   K:D_A            367 non-null    float64\n",
      " 7   GPM_A            367 non-null    float64\n",
      " 8   GDM_A            367 non-null    float64\n",
      " 9   Game duration_A  656 non-null    int8   \n",
      " 10  Kills / game_A   367 non-null    float64\n",
      " 11  Deaths / game_A  367 non-null    float64\n",
      " 12  Towers killed_A  367 non-null    float64\n",
      " 13  Towers lost_A    367 non-null    float64\n",
      " 14  FB%_A            367 non-null    float64\n",
      " 15  FT%_A            367 non-null    float64\n",
      " 16  FOS%_A           367 non-null    float64\n",
      " 17  DRAPG_A          367 non-null    float64\n",
      " 18  DRA%_A           367 non-null    float64\n",
      " 19  VGPG_A           367 non-null    float64\n",
      " 20  HER%_A           367 non-null    float64\n",
      " 21  ATAKHAN%_A       656 non-null    int8   \n",
      " 22  DRA@15_A         656 non-null    int8   \n",
      " 23  TD@15_A          656 non-null    int8   \n",
      " 24  GD@15_A          367 non-null    float64\n",
      " 25  PPG_A            656 non-null    int8   \n",
      " 26  NASHPG_A         367 non-null    float64\n",
      " 27  NASH%_A          367 non-null    float64\n",
      " 28  CSM_A            367 non-null    float64\n",
      " 29  DPM_A            367 non-null    float64\n",
      " 30  WPM_A            367 non-null    float64\n",
      " 31  VWPM_A           367 non-null    float64\n",
      " 32  WCPM_A           367 non-null    float64\n",
      " 33  Region_B         656 non-null    int8   \n",
      " 34  Games_B          370 non-null    float64\n",
      " 35  Win rate_B       656 non-null    int8   \n",
      " 36  K:D_B            370 non-null    float64\n",
      " 37  GPM_B            370 non-null    float64\n",
      " 38  GDM_B            370 non-null    float64\n",
      " 39  Game duration_B  656 non-null    int8   \n",
      " 40  Kills / game_B   370 non-null    float64\n",
      " 41  Deaths / game_B  370 non-null    float64\n",
      " 42  Towers killed_B  370 non-null    float64\n",
      " 43  Towers lost_B    370 non-null    float64\n",
      " 44  FB%_B            370 non-null    float64\n",
      " 45  FT%_B            370 non-null    float64\n",
      " 46  FOS%_B           370 non-null    float64\n",
      " 47  DRAPG_B          370 non-null    float64\n",
      " 48  DRA%_B           370 non-null    float64\n",
      " 49  VGPG_B           370 non-null    float64\n",
      " 50  HER%_B           370 non-null    float64\n",
      " 51  ATAKHAN%_B       656 non-null    int8   \n",
      " 52  DRA@15_B         656 non-null    int8   \n",
      " 53  TD@15_B          656 non-null    int8   \n",
      " 54  GD@15_B          370 non-null    float64\n",
      " 55  PPG_B            656 non-null    int8   \n",
      " 56  NASHPG_B         370 non-null    float64\n",
      " 57  NASH%_B          370 non-null    float64\n",
      " 58  CSM_B            370 non-null    float64\n",
      " 59  DPM_B            370 non-null    float64\n",
      " 60  WPM_B            370 non-null    float64\n",
      " 61  VWPM_B           370 non-null    float64\n",
      " 62  WCPM_B           370 non-null    float64\n",
      "dtypes: float64(46), int64(1), int8(16)\n",
      "memory usage: 251.3 KB\n"
     ]
    }
   ],
   "source": [
    "data[data.select_dtypes(['category']).columns] = data.select_dtypes(['category']).apply(lambda x: x.cat.codes)\n",
    "data.info()"
   ]
  },
  {
   "cell_type": "code",
   "execution_count": 27,
   "id": "8380ddad",
   "metadata": {},
   "outputs": [
    {
     "data": {
      "text/plain": [
       "teamA         0\n",
       "teamB         0\n",
       "winA          0\n",
       "Region_A      0\n",
       "Games_A     289\n",
       "           ... \n",
       "CSM_B       286\n",
       "DPM_B       286\n",
       "WPM_B       286\n",
       "VWPM_B      286\n",
       "WCPM_B      286\n",
       "Length: 63, dtype: int64"
      ]
     },
     "execution_count": 27,
     "metadata": {},
     "output_type": "execute_result"
    }
   ],
   "source": [
    "data.isnull().sum(axis=0)"
   ]
  },
  {
   "cell_type": "code",
   "execution_count": 28,
   "id": "d9a1e7b0",
   "metadata": {},
   "outputs": [
    {
     "data": {
      "text/plain": [
       "teamA       0\n",
       "teamB       0\n",
       "winA        0\n",
       "Region_A    0\n",
       "Games_A     0\n",
       "           ..\n",
       "CSM_B       0\n",
       "DPM_B       0\n",
       "WPM_B       0\n",
       "VWPM_B      0\n",
       "WCPM_B      0\n",
       "Length: 63, dtype: int64"
      ]
     },
     "execution_count": 28,
     "metadata": {},
     "output_type": "execute_result"
    }
   ],
   "source": [
    "data = data.fillna(-1)\n",
    "data.isnull().sum(axis=0)"
   ]
  },
  {
   "cell_type": "code",
   "execution_count": 29,
   "id": "140ffb02",
   "metadata": {},
   "outputs": [],
   "source": [
    "data.to_csv('../data/clean_spring.csv', index=False, sep=';')"
   ]
  },
  {
   "cell_type": "code",
   "execution_count": null,
   "id": "739f155c",
   "metadata": {},
   "outputs": [],
   "source": []
  }
 ],
 "metadata": {
  "kernelspec": {
   "display_name": "venv",
   "language": "python",
   "name": "python3"
  },
  "language_info": {
   "codemirror_mode": {
    "name": "ipython",
    "version": 3
   },
   "file_extension": ".py",
   "mimetype": "text/x-python",
   "name": "python",
   "nbconvert_exporter": "python",
   "pygments_lexer": "ipython3",
   "version": "3.12.3"
  }
 },
 "nbformat": 4,
 "nbformat_minor": 5
}
