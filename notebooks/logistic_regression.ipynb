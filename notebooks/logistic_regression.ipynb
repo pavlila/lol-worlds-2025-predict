{
 "cells": [
  {
   "cell_type": "code",
   "execution_count": 1,
   "id": "a5f99ec2",
   "metadata": {},
   "outputs": [],
   "source": [
    "import math\n",
    "import pandas as pd\n",
    "import numpy as np\n",
    "from scipy import stats\n",
    "\n",
    "import seaborn as sns\n",
    "from sklearn import metrics, datasets\n",
    "from sklearn.model_selection import train_test_split\n",
    "from sklearn.linear_model import LogisticRegression\n",
    "\n",
    "import matplotlib.pyplot as plt\n",
    "import matplotlib\n",
    "%matplotlib inline\n",
    "\n",
    "random_seed = 30"
   ]
  },
  {
   "cell_type": "code",
   "execution_count": 2,
   "id": "627659e5",
   "metadata": {},
   "outputs": [],
   "source": [
    "data = pd.read_csv(\"../data/featured/data.csv\", sep=';')\n",
    "\n",
    "Xdata = data.drop('teamA_win', axis=1)\n",
    "ydata = data.teamA_win"
   ]
  },
  {
   "cell_type": "code",
   "execution_count": 3,
   "id": "0cf08734",
   "metadata": {},
   "outputs": [],
   "source": [
    "Xtrain, Xval, ytrain, yval = train_test_split(Xdata, ydata, test_size=0.4, random_state=random_seed)"
   ]
  },
  {
   "cell_type": "code",
   "execution_count": 6,
   "id": "45f22d02",
   "metadata": {},
   "outputs": [],
   "source": [
    "from sklearn.preprocessing import StandardScaler, MinMaxScaler\n",
    "\n",
    "# --- StandardScaler ---\n",
    "scaler_std = StandardScaler()\n",
    "Xtrain_std = scaler_std.fit_transform(Xtrain)\n",
    "Xval_std = scaler_std.transform(Xval)\n",
    "\n",
    "# --- MinMaxScaler ---\n",
    "scaler_mm = MinMaxScaler()\n",
    "Xtrain_mm = scaler_mm.fit_transform(Xtrain)\n",
    "Xval_mm = scaler_mm.transform(Xval)\n",
    "\n"
   ]
  },
  {
   "cell_type": "code",
   "execution_count": 8,
   "id": "f78ae6a1",
   "metadata": {},
   "outputs": [
    {
     "name": "stdout",
     "output_type": "stream",
     "text": [
      "\n",
      "=== StandardScaler ===\n",
      "Best params: {'C': 0.01, 'penalty': 'l2', 'solver': 'liblinear'}\n",
      "Validation Accuracy: 0.7481\n",
      "              precision    recall  f1-score   support\n",
      "\n",
      "           0       0.73      0.67      0.70       291\n",
      "           1       0.76      0.81      0.78       372\n",
      "\n",
      "    accuracy                           0.75       663\n",
      "   macro avg       0.75      0.74      0.74       663\n",
      "weighted avg       0.75      0.75      0.75       663\n",
      "\n",
      "\n",
      "=== MinMaxScaler ===\n",
      "Best params: {'C': 1, 'penalty': 'l1', 'solver': 'liblinear'}\n",
      "Validation Accuracy: 0.7496\n",
      "              precision    recall  f1-score   support\n",
      "\n",
      "           0       0.73      0.69      0.71       291\n",
      "           1       0.77      0.80      0.78       372\n",
      "\n",
      "    accuracy                           0.75       663\n",
      "   macro avg       0.75      0.74      0.74       663\n",
      "weighted avg       0.75      0.75      0.75       663\n",
      "\n",
      "\n",
      "=== Summary ===\n",
      "StandardScaler: 0.7481 (params: {'C': 0.01, 'penalty': 'l2', 'solver': 'liblinear'})\n",
      "MinMaxScaler:   0.7496 (params: {'C': 1, 'penalty': 'l1', 'solver': 'liblinear'})\n"
     ]
    }
   ],
   "source": [
    "from sklearn.preprocessing import StandardScaler, MinMaxScaler\n",
    "from sklearn.linear_model import LogisticRegression\n",
    "from sklearn.model_selection import GridSearchCV\n",
    "from sklearn.metrics import accuracy_score, classification_report\n",
    "\n",
    "# === Funkce pro trénink + ladění ===\n",
    "def tune_logistic_regression(Xtrain, Xval, ytrain, yval, scaler_name):\n",
    "    print(f\"\\n=== {scaler_name} ===\")\n",
    "    \n",
    "    # Hyperparametry k testování\n",
    "    param_grid = {\n",
    "        'penalty': ['l1', 'l2'],\n",
    "        'C': [0.01, 0.1, 1, 10],\n",
    "        'solver': ['liblinear', 'saga']\n",
    "    }\n",
    "    \n",
    "    logreg = LogisticRegression(max_iter=5000, random_state=random_seed)\n",
    "    grid = GridSearchCV(logreg, param_grid, cv=5, scoring='accuracy', n_jobs=-1)\n",
    "    grid.fit(Xtrain, ytrain)\n",
    "    \n",
    "    # Nejlepší model\n",
    "    best_model = grid.best_estimator_\n",
    "    preds = best_model.predict(Xval)\n",
    "    acc = accuracy_score(yval, preds)\n",
    "    \n",
    "    print(\"Best params:\", grid.best_params_)\n",
    "    print(f\"Validation Accuracy: {acc:.4f}\")\n",
    "    print(classification_report(yval, preds))\n",
    "    return acc, grid.best_params_\n",
    "\n",
    "# === StandardScaler ===\n",
    "scaler_std = StandardScaler()\n",
    "Xtrain_std = scaler_std.fit_transform(Xtrain)\n",
    "Xval_std   = scaler_std.transform(Xval)\n",
    "\n",
    "# === MinMaxScaler ===\n",
    "scaler_mm = MinMaxScaler()\n",
    "Xtrain_mm = scaler_mm.fit_transform(Xtrain)\n",
    "Xval_mm   = scaler_mm.transform(Xval)\n",
    "\n",
    "# === Spuštění ladění ===\n",
    "acc_std, params_std = tune_logistic_regression(Xtrain_std, Xval_std, ytrain, yval, \"StandardScaler\")\n",
    "acc_mm,  params_mm  = tune_logistic_regression(Xtrain_mm,  Xval_mm,  ytrain, yval, \"MinMaxScaler\")\n",
    "\n",
    "# === Porovnání ===\n",
    "print(\"\\n=== Summary ===\")\n",
    "print(f\"StandardScaler: {acc_std:.4f} (params: {params_std})\")\n",
    "print(f\"MinMaxScaler:   {acc_mm:.4f} (params: {params_mm})\")\n"
   ]
  },
  {
   "cell_type": "code",
   "execution_count": 9,
   "id": "4c4bd55e",
   "metadata": {},
   "outputs": [
    {
     "name": "stdout",
     "output_type": "stream",
     "text": [
      "\n",
      "Validační přesnost: 0.7481146304675717\n"
     ]
    }
   ],
   "source": [
    "clfLOG = LogisticRegression(solver='newton-cg')\n",
    "clfLOG.fit(Xtrain,ytrain)\n",
    "\n",
    "print('\\nValidační přesnost:', clfLOG.score(Xval,yval))"
   ]
  },
  {
   "cell_type": "code",
   "execution_count": null,
   "id": "d87d2cd6",
   "metadata": {},
   "outputs": [],
   "source": []
  }
 ],
 "metadata": {
  "kernelspec": {
   "display_name": "venv",
   "language": "python",
   "name": "python3"
  },
  "language_info": {
   "codemirror_mode": {
    "name": "ipython",
    "version": 3
   },
   "file_extension": ".py",
   "mimetype": "text/x-python",
   "name": "python",
   "nbconvert_exporter": "python",
   "pygments_lexer": "ipython3",
   "version": "3.12.3"
  }
 },
 "nbformat": 4,
 "nbformat_minor": 5
}
