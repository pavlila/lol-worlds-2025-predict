{
 "cells": [
  {
   "cell_type": "code",
   "execution_count": 1,
   "id": "a5f99ec2",
   "metadata": {},
   "outputs": [],
   "source": [
    "import math\n",
    "import pandas as pd\n",
    "import numpy as np\n",
    "from scipy import stats\n",
    "\n",
    "import seaborn as sns\n",
    "from sklearn import metrics, datasets\n",
    "from sklearn.model_selection import train_test_split\n",
    "from sklearn.linear_model import LogisticRegression\n",
    "\n",
    "import matplotlib.pyplot as plt\n",
    "import matplotlib\n",
    "%matplotlib inline\n",
    "\n",
    "random_seed = 30"
   ]
  },
  {
   "cell_type": "code",
   "execution_count": 2,
   "id": "627659e5",
   "metadata": {},
   "outputs": [],
   "source": [
    "data = pd.read_csv(\"../data/featured/data.csv\", sep=';')\n",
    "\n",
    "Xdata = data.drop('teamA_win', axis=1)\n",
    "ydata = data.teamA_win"
   ]
  },
  {
   "cell_type": "code",
   "execution_count": 3,
   "id": "0cf08734",
   "metadata": {},
   "outputs": [],
   "source": [
    "Xtrain, Xval, ytrain, yval = train_test_split(Xdata, ydata, test_size=0.4, random_state=random_seed)"
   ]
  },
  {
   "cell_type": "code",
   "execution_count": 4,
   "id": "4c4bd55e",
   "metadata": {},
   "outputs": [
    {
     "name": "stdout",
     "output_type": "stream",
     "text": [
      "\n",
      "Validační přesnost: 0.7119155354449472\n"
     ]
    }
   ],
   "source": [
    "clfLOG = LogisticRegression(solver='newton-cg')\n",
    "clfLOG.fit(Xtrain,ytrain)\n",
    "\n",
    "print('\\nValidační přesnost:', clfLOG.score(Xval,yval))"
   ]
  },
  {
   "cell_type": "code",
   "execution_count": null,
   "id": "d87d2cd6",
   "metadata": {},
   "outputs": [],
   "source": []
  }
 ],
 "metadata": {
  "kernelspec": {
   "display_name": "venv",
   "language": "python",
   "name": "python3"
  },
  "language_info": {
   "codemirror_mode": {
    "name": "ipython",
    "version": 3
   },
   "file_extension": ".py",
   "mimetype": "text/x-python",
   "name": "python",
   "nbconvert_exporter": "python",
   "pygments_lexer": "ipython3",
   "version": "3.12.3"
  }
 },
 "nbformat": 4,
 "nbformat_minor": 5
}
