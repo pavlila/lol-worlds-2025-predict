{
 "cells": [
  {
   "cell_type": "code",
   "execution_count": 10,
   "id": "809bb576",
   "metadata": {},
   "outputs": [],
   "source": [
    "import math\n",
    "\n",
    "import pandas as pd\n",
    "import numpy as np\n",
    "import seaborn as sns\n",
    "\n",
    "from sklearn.model_selection import train_test_split, ParameterGrid\n",
    "from sklearn.ensemble import RandomForestClassifier\n",
    "import sklearn.metrics as metrics\n",
    "\n",
    "import matplotlib.pyplot as plt\n",
    "import matplotlib\n",
    "%matplotlib inline\n",
    "\n",
    "random_seed = 42"
   ]
  },
  {
   "cell_type": "code",
   "execution_count": 11,
   "id": "64dcbdae",
   "metadata": {},
   "outputs": [],
   "source": [
    "data_ws = pd.read_csv(\"../data/featured/winter_spring.csv\", sep=';')\n",
    "data_s = pd.read_csv(\"../data/featured/spring.csv\", sep=';')\n",
    "\n",
    "Xdata_ws = data_ws.drop('teamA_win', axis=1)\n",
    "ydata_ws = data_ws.teamA_win\n",
    "\n",
    "Xdata_s = data_s.drop('teamA_win', axis=1)\n",
    "ydata_s = data_s.teamA_win"
   ]
  },
  {
   "cell_type": "code",
   "execution_count": 12,
   "id": "8a6cfd41",
   "metadata": {},
   "outputs": [],
   "source": [
    "Xtrain_ws, Xval_ws, ytrain_ws, yval_ws = train_test_split(Xdata_ws, ydata_ws, test_size=0.4, random_state=random_seed)\n",
    "Xtrain_s, Xval_s, ytrain_s, yval_s = train_test_split(Xdata_s, ydata_s, test_size=0.4, random_state=random_seed)\n",
    "\n",
    "test_data = pd.read_csv(\"../data/featured/summer.csv\", sep=';')\n",
    "Xtest = test_data.drop('teamA_win', axis=1)\n",
    "ytest = test_data.teamA_win"
   ]
  },
  {
   "cell_type": "code",
   "execution_count": 13,
   "id": "e9e25944",
   "metadata": {},
   "outputs": [
    {
     "name": "stdout",
     "output_type": "stream",
     "text": [
      "Winter & Spring Accuracy score (train): 0.831958\n",
      "Winter & Spring Accuracy score (val): 0.717660\n",
      "\n",
      "Spring Accuracy score (train): 0.882554\n",
      "Spring Accuracy score (val): 0.733333\n"
     ]
    }
   ],
   "source": [
    "clfRF = RandomForestClassifier(n_estimators = 20, max_depth = 8, random_state = 42)\n",
    "clfRF.fit(Xtrain_ws, ytrain_ws)\n",
    "\n",
    "print('Winter & Spring Accuracy score (train): {0:.6f}'.format(metrics.accuracy_score(ytrain_ws, clfRF.predict(Xtrain_ws))))\n",
    "print('Winter & Spring Accuracy score (val): {0:.6f}'.format(metrics.accuracy_score(yval_ws, clfRF.predict(Xval_ws))))\n",
    "\n",
    "clfRF = RandomForestClassifier(n_estimators = 20, max_depth = 8, random_state = 42)\n",
    "clfRF.fit(Xtrain_s, ytrain_s)\n",
    "\n",
    "print('\\nSpring Accuracy score (train): {0:.6f}'.format(metrics.accuracy_score(ytrain_s, clfRF.predict(Xtrain_s))))\n",
    "print('Spring Accuracy score (val): {0:.6f}'.format(metrics.accuracy_score(yval_s, clfRF.predict(Xval_s))))"
   ]
  },
  {
   "cell_type": "code",
   "execution_count": 14,
   "id": "93c7faff",
   "metadata": {},
   "outputs": [
    {
     "name": "stdout",
     "output_type": "stream",
     "text": [
      "We found the best params {'n_estimators': 35, 'max_depth': 17} with validation acuraccy 0.7627.\n",
      "Winter & Spring accuracy score (test): 0.685792\n"
     ]
    }
   ],
   "source": [
    "param_grid = {\n",
    "    'n_estimators': range(3,50),\n",
    "    'max_depth': range(3, 30)\n",
    "}\n",
    "\n",
    "param_comb = ParameterGrid(param_grid)\n",
    "\n",
    "val_metric = []\n",
    "for params in param_comb:\n",
    "    clf = RandomForestClassifier(**params, random_state = 42).fit(Xtrain_ws, ytrain_ws)\n",
    "    val_metric.append(metrics.accuracy_score(yval_ws, clf.predict(Xval_ws)))\n",
    "    \n",
    "best_params = param_comb[np.argmax(val_metric)]\n",
    "print(f\"We found the best params {best_params} with validation acuraccy {max(val_metric):.4f}.\")\n",
    "\n",
    "clfRFb = RandomForestClassifier(**best_params, random_state = 42).fit(Xtrain_ws, ytrain_ws)\n",
    "print('Winter & Spring accuracy score (test): {0:.6f}'.format(metrics.accuracy_score(ytest, clf.predict(Xtest))))"
   ]
  },
  {
   "cell_type": "code",
   "execution_count": 16,
   "id": "4cab45d5",
   "metadata": {},
   "outputs": [
    {
     "name": "stdout",
     "output_type": "stream",
     "text": [
      "We found the best params {'n_estimators': 29, 'max_depth': 15} with validation acuraccy 0.7607.\n",
      "Spring accuracy score (test): 0.636612\n"
     ]
    }
   ],
   "source": [
    "param_grid = {\n",
    "    'n_estimators': range(3,50),\n",
    "    'max_depth': range(3, 30)\n",
    "}\n",
    "\n",
    "param_comb = ParameterGrid(param_grid)\n",
    "\n",
    "val_metric = []\n",
    "for params in param_comb:\n",
    "    clf = RandomForestClassifier(**params, random_state = 42).fit(Xtrain_s, ytrain_s)\n",
    "    val_metric.append(metrics.accuracy_score(yval_s, clf.predict(Xval_s)))\n",
    "    \n",
    "best_params = param_comb[np.argmax(val_metric)]\n",
    "print(f\"We found the best params {best_params} with validation acuraccy {max(val_metric):.4f}.\")\n",
    "\n",
    "clfRFb = RandomForestClassifier(**best_params, random_state = 42).fit(Xtrain_s, ytrain_s)\n",
    "print('Spring accuracy score (test): {0:.6f}'.format(metrics.accuracy_score(ytest, clf.predict(Xtest))))"
   ]
  },
  {
   "cell_type": "code",
   "execution_count": null,
   "id": "2a10d5d9",
   "metadata": {},
   "outputs": [],
   "source": []
  }
 ],
 "metadata": {
  "kernelspec": {
   "display_name": "venv",
   "language": "python",
   "name": "python3"
  },
  "language_info": {
   "codemirror_mode": {
    "name": "ipython",
    "version": 3
   },
   "file_extension": ".py",
   "mimetype": "text/x-python",
   "name": "python",
   "nbconvert_exporter": "python",
   "pygments_lexer": "ipython3",
   "version": "3.12.3"
  }
 },
 "nbformat": 4,
 "nbformat_minor": 5
}
