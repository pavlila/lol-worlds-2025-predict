{
 "cells": [
  {
   "cell_type": "code",
   "execution_count": 1,
   "id": "809bb576",
   "metadata": {},
   "outputs": [],
   "source": [
    "import math\n",
    "\n",
    "import pandas as pd\n",
    "import numpy as np\n",
    "import seaborn as sns\n",
    "\n",
    "from sklearn.model_selection import train_test_split, ParameterGrid\n",
    "from sklearn.ensemble import RandomForestClassifier\n",
    "import sklearn.metrics as metrics\n",
    "\n",
    "import matplotlib.pyplot as plt\n",
    "import matplotlib\n",
    "%matplotlib inline\n",
    "\n",
    "random_seed = 42"
   ]
  },
  {
   "cell_type": "code",
   "execution_count": 2,
   "id": "64dcbdae",
   "metadata": {},
   "outputs": [],
   "source": [
    "data_ws = pd.read_csv(\"../data/featured/winter_spring.csv\", sep=';')\n",
    "data_s = pd.read_csv(\"../data/featured/spring.csv\", sep=';')\n",
    "\n",
    "Xdata_ws = data_ws.drop('teamA_win', axis=1)\n",
    "ydata_ws = data_ws.teamA_win\n",
    "\n",
    "Xdata_s = data_s.drop('teamA_win', axis=1)\n",
    "ydata_s = data_s.teamA_win"
   ]
  },
  {
   "cell_type": "code",
   "execution_count": 3,
   "id": "8a6cfd41",
   "metadata": {},
   "outputs": [],
   "source": [
    "Xtrain_ws, Xval_ws, ytrain_ws, yval_ws = train_test_split(Xdata_ws, ydata_ws, test_size=0.4, random_state=random_seed)\n",
    "Xtrain_s, Xval_s, ytrain_s, yval_s = train_test_split(Xdata_s, ydata_s, test_size=0.4, random_state=random_seed)\n",
    "\n",
    "test_data = pd.read_csv(\"../data/featured/summer.csv\", sep=';')\n",
    "Xtest = test_data.drop('teamA_win', axis=1)\n",
    "ytest = test_data.teamA_win"
   ]
  },
  {
   "cell_type": "code",
   "execution_count": 4,
   "id": "e9e25944",
   "metadata": {},
   "outputs": [
    {
     "name": "stdout",
     "output_type": "stream",
     "text": [
      "Winter & Spring Accuracy score (train): 0.835549\n",
      "Winter & Spring Accuracy score (val): 0.730325\n",
      "\n",
      "Spring Accuracy score (train): 0.889730\n",
      "Spring Accuracy score (val): 0.703404\n"
     ]
    }
   ],
   "source": [
    "clfRF = RandomForestClassifier(n_estimators = 20, max_depth = 8, random_state = 42)\n",
    "clfRF.fit(Xtrain_ws, ytrain_ws)\n",
    "\n",
    "print('Winter & Spring Accuracy score (train): {0:.6f}'.format(metrics.accuracy_score(ytrain_ws, clfRF.predict(Xtrain_ws))))\n",
    "print('Winter & Spring Accuracy score (val): {0:.6f}'.format(metrics.accuracy_score(yval_ws, clfRF.predict(Xval_ws))))\n",
    "\n",
    "clfRF = RandomForestClassifier(n_estimators = 20, max_depth = 8, random_state = 42)\n",
    "clfRF.fit(Xtrain_s, ytrain_s)\n",
    "\n",
    "print('\\nSpring Accuracy score (train): {0:.6f}'.format(metrics.accuracy_score(ytrain_s, clfRF.predict(Xtrain_s))))\n",
    "print('Spring Accuracy score (val): {0:.6f}'.format(metrics.accuracy_score(yval_s, clfRF.predict(Xval_s))))"
   ]
  },
  {
   "cell_type": "code",
   "execution_count": 5,
   "id": "93c7faff",
   "metadata": {},
   "outputs": [
    {
     "name": "stdout",
     "output_type": "stream",
     "text": [
      "We found the best params {'n_estimators': 26, 'max_depth': 19} with validation acuraccy 0.7754.\n",
      "Winter & Spring accuracy score (test): 0.659148\n"
     ]
    }
   ],
   "source": [
    "param_grid = {\n",
    "    'n_estimators': range(3,50),\n",
    "    'max_depth': range(3, 30)\n",
    "}\n",
    "\n",
    "param_comb = ParameterGrid(param_grid)\n",
    "\n",
    "val_metric = []\n",
    "for params in param_comb:\n",
    "    clf = RandomForestClassifier(**params, random_state = 42).fit(Xtrain_ws, ytrain_ws)\n",
    "    val_metric.append(metrics.accuracy_score(yval_ws, clf.predict(Xval_ws)))\n",
    "    \n",
    "best_params = param_comb[np.argmax(val_metric)]\n",
    "print(f\"We found the best params {best_params} with validation acuraccy {max(val_metric):.4f}.\")\n",
    "\n",
    "clfRFb = RandomForestClassifier(**best_params, random_state = 42).fit(Xtrain_ws, ytrain_ws)\n",
    "print('Winter & Spring accuracy score (test): {0:.6f}'.format(metrics.accuracy_score(ytest, clf.predict(Xtest))))"
   ]
  },
  {
   "cell_type": "code",
   "execution_count": 6,
   "id": "4cab45d5",
   "metadata": {},
   "outputs": [
    {
     "name": "stdout",
     "output_type": "stream",
     "text": [
      "We found the best params {'n_estimators': 34, 'max_depth': 18} with validation acuraccy 0.7536.\n",
      "Spring accuracy score (test): 0.674185\n"
     ]
    }
   ],
   "source": [
    "param_grid = {\n",
    "    'n_estimators': range(3,50),\n",
    "    'max_depth': range(3, 30)\n",
    "}\n",
    "\n",
    "param_comb = ParameterGrid(param_grid)\n",
    "\n",
    "val_metric = []\n",
    "for params in param_comb:\n",
    "    clf = RandomForestClassifier(**params, random_state = 42).fit(Xtrain_s, ytrain_s)\n",
    "    val_metric.append(metrics.accuracy_score(yval_s, clf.predict(Xval_s)))\n",
    "    \n",
    "best_params = param_comb[np.argmax(val_metric)]\n",
    "print(f\"We found the best params {best_params} with validation acuraccy {max(val_metric):.4f}.\")\n",
    "\n",
    "clfRFb = RandomForestClassifier(**best_params, random_state = 42).fit(Xtrain_s, ytrain_s)\n",
    "print('Spring accuracy score (test): {0:.6f}'.format(metrics.accuracy_score(ytest, clf.predict(Xtest))))"
   ]
  },
  {
   "cell_type": "code",
   "execution_count": 5,
   "id": "22e2c31c",
   "metadata": {},
   "outputs": [],
   "source": [
    "matches = pd.read_csv(\"../data/cleaned/matches_winter.csv\", sep=';')\n",
    "teams = pd.read_csv(\"../data/cleaned/teams_winter_daily.csv\", sep=';')"
   ]
  },
  {
   "cell_type": "code",
   "execution_count": null,
   "id": "ddb2e78a",
   "metadata": {},
   "outputs": [],
   "source": []
  },
  {
   "cell_type": "code",
   "execution_count": null,
   "id": "2a10d5d9",
   "metadata": {},
   "outputs": [],
   "source": [
    "import pandas as pd\n",
    "\n",
    "def get_closest_past_stats(team_name, match_date, stats_df):\n",
    "    team_data = stats_df[(stats_df[\"Team\"] == team_name) & (stats_df[\"date\"] < match_date)]\n",
    "    if team_data.empty:\n",
    "        return pd.Series(dtype=float)\n",
    "    return team_data.sort_values(\"date\", ascending=False).iloc[0]\n",
    "\n",
    "def prefix_columns(series, prefix, ignore_cols):\n",
    "    renamed = {}\n",
    "    for col in series.index:\n",
    "        if col in ignore_cols:\n",
    "            renamed[col] = col\n",
    "        else:\n",
    "            renamed[col] = f\"{prefix}{col}\"\n",
    "    return series.rename(index=renamed)\n",
    "\n",
    "def merge_match_with_team_stats(matches_df, teams_df):\n",
    "    matches_df = matches_df.copy()\n",
    "    teams_df = teams_df.copy()\n",
    "\n",
    "    matches_df[\"date\"] = pd.to_datetime(matches_df[\"date\"])\n",
    "    teams_df[\"date\"] = pd.to_datetime(teams_df[\"date\"])\n",
    "\n",
    "    merged_rows = []\n",
    "\n",
    "    ignore_cols = {\"Team\", \"tournament\", \"date\"}\n",
    "\n",
    "    for _, row in matches_df.iterrows():\n",
    "        teamA = row[\"teamA\"]\n",
    "        teamB = row[\"teamB\"]\n",
    "        match_date = row[\"date\"]\n",
    "\n",
    "        stats_A = get_closest_past_stats(teamA, match_date, teams_df)\n",
    "        stats_B = get_closest_past_stats(teamB, match_date, teams_df)\n",
    "\n",
    "        stats_A = prefix_columns(stats_A, \"A_\", ignore_cols)\n",
    "        stats_B = prefix_columns(stats_B, \"B_\", ignore_cols)\n",
    "\n",
    "        combined_row = pd.concat([row, stats_A, stats_B])\n",
    "        merged_rows.append(combined_row)\n",
    "\n",
    "    return pd.DataFrame(merged_rows)\n"
   ]
  },
  {
   "cell_type": "code",
   "execution_count": 30,
   "id": "01b8f531",
   "metadata": {},
   "outputs": [],
   "source": [
    "def matchesAndTeamsMerge(matches, teams):\n",
    "    data = matches.merge(teams, how='left', left_on='teamA', right_on='Name')\n",
    "    data = data.rename(columns=lambda x: x if x in ['teamA','teamB','teamA_win','match_id','game_in_series','date','split'] else f\"{x}_A\")\n",
    "    data = data.drop(columns=['Name_A'], errors='ignore')\n",
    "\n",
    "    data = data.merge(teams, how='left', left_on='teamB', right_on='Name')\n",
    "    data = data.rename(columns=lambda x: x if x in ['teamA','teamB','teamA_win','match_id','game_in_series','date','split'] or x.endswith('_A') else f\"{x}_B\")\n",
    "    data = data.drop(columns=['Name_B'], errors='ignore')\n",
    "    return data"
   ]
  },
  {
   "cell_type": "code",
   "execution_count": 31,
   "id": "fee92431",
   "metadata": {},
   "outputs": [
    {
     "ename": "InvalidIndexError",
     "evalue": "Reindexing only valid with uniquely valued Index objects",
     "output_type": "error",
     "traceback": [
      "\u001b[31m---------------------------------------------------------------------------\u001b[39m",
      "\u001b[31mInvalidIndexError\u001b[39m                         Traceback (most recent call last)",
      "\u001b[36mCell\u001b[39m\u001b[36m \u001b[39m\u001b[32mIn[31]\u001b[39m\u001b[32m, line 1\u001b[39m\n\u001b[32m----> \u001b[39m\u001b[32m1\u001b[39m df = \u001b[43mmerge_match_with_team_stats\u001b[49m\u001b[43m(\u001b[49m\u001b[43mmatches\u001b[49m\u001b[43m,\u001b[49m\u001b[43m \u001b[49m\u001b[43mteams\u001b[49m\u001b[43m)\u001b[49m\n",
      "\u001b[36mCell\u001b[39m\u001b[36m \u001b[39m\u001b[32mIn[29]\u001b[39m\u001b[32m, line 40\u001b[39m, in \u001b[36mmerge_match_with_team_stats\u001b[39m\u001b[34m(matches_df, teams_df)\u001b[39m\n\u001b[32m     37\u001b[39m     combined_row = pd.concat([row, stats_A, stats_B])\n\u001b[32m     38\u001b[39m     merged_rows.append(combined_row)\n\u001b[32m---> \u001b[39m\u001b[32m40\u001b[39m \u001b[38;5;28;01mreturn\u001b[39;00m \u001b[43mpd\u001b[49m\u001b[43m.\u001b[49m\u001b[43mDataFrame\u001b[49m\u001b[43m(\u001b[49m\u001b[43mmerged_rows\u001b[49m\u001b[43m)\u001b[49m\n",
      "\u001b[36mFile \u001b[39m\u001b[32m~/git-private/lol-worlds-2025-predict/venv/lib/python3.12/site-packages/pandas/core/frame.py:851\u001b[39m, in \u001b[36mDataFrame.__init__\u001b[39m\u001b[34m(self, data, index, columns, dtype, copy)\u001b[39m\n\u001b[32m    849\u001b[39m     \u001b[38;5;28;01mif\u001b[39;00m columns \u001b[38;5;129;01mis\u001b[39;00m \u001b[38;5;129;01mnot\u001b[39;00m \u001b[38;5;28;01mNone\u001b[39;00m:\n\u001b[32m    850\u001b[39m         columns = ensure_index(columns)\n\u001b[32m--> \u001b[39m\u001b[32m851\u001b[39m     arrays, columns, index = \u001b[43mnested_data_to_arrays\u001b[49m\u001b[43m(\u001b[49m\n\u001b[32m    852\u001b[39m \u001b[43m        \u001b[49m\u001b[38;5;66;43;03m# error: Argument 3 to \"nested_data_to_arrays\" has incompatible\u001b[39;49;00m\n\u001b[32m    853\u001b[39m \u001b[43m        \u001b[49m\u001b[38;5;66;43;03m# type \"Optional[Collection[Any]]\"; expected \"Optional[Index]\"\u001b[39;49;00m\n\u001b[32m    854\u001b[39m \u001b[43m        \u001b[49m\u001b[43mdata\u001b[49m\u001b[43m,\u001b[49m\n\u001b[32m    855\u001b[39m \u001b[43m        \u001b[49m\u001b[43mcolumns\u001b[49m\u001b[43m,\u001b[49m\n\u001b[32m    856\u001b[39m \u001b[43m        \u001b[49m\u001b[43mindex\u001b[49m\u001b[43m,\u001b[49m\u001b[43m  \u001b[49m\u001b[38;5;66;43;03m# type: ignore[arg-type]\u001b[39;49;00m\n\u001b[32m    857\u001b[39m \u001b[43m        \u001b[49m\u001b[43mdtype\u001b[49m\u001b[43m,\u001b[49m\n\u001b[32m    858\u001b[39m \u001b[43m    \u001b[49m\u001b[43m)\u001b[49m\n\u001b[32m    859\u001b[39m     mgr = arrays_to_mgr(\n\u001b[32m    860\u001b[39m         arrays,\n\u001b[32m    861\u001b[39m         columns,\n\u001b[32m   (...)\u001b[39m\u001b[32m    864\u001b[39m         typ=manager,\n\u001b[32m    865\u001b[39m     )\n\u001b[32m    866\u001b[39m \u001b[38;5;28;01melse\u001b[39;00m:\n",
      "\u001b[36mFile \u001b[39m\u001b[32m~/git-private/lol-worlds-2025-predict/venv/lib/python3.12/site-packages/pandas/core/internals/construction.py:520\u001b[39m, in \u001b[36mnested_data_to_arrays\u001b[39m\u001b[34m(data, columns, index, dtype)\u001b[39m\n\u001b[32m    517\u001b[39m \u001b[38;5;28;01mif\u001b[39;00m is_named_tuple(data[\u001b[32m0\u001b[39m]) \u001b[38;5;129;01mand\u001b[39;00m columns \u001b[38;5;129;01mis\u001b[39;00m \u001b[38;5;28;01mNone\u001b[39;00m:\n\u001b[32m    518\u001b[39m     columns = ensure_index(data[\u001b[32m0\u001b[39m]._fields)\n\u001b[32m--> \u001b[39m\u001b[32m520\u001b[39m arrays, columns = \u001b[43mto_arrays\u001b[49m\u001b[43m(\u001b[49m\u001b[43mdata\u001b[49m\u001b[43m,\u001b[49m\u001b[43m \u001b[49m\u001b[43mcolumns\u001b[49m\u001b[43m,\u001b[49m\u001b[43m \u001b[49m\u001b[43mdtype\u001b[49m\u001b[43m=\u001b[49m\u001b[43mdtype\u001b[49m\u001b[43m)\u001b[49m\n\u001b[32m    521\u001b[39m columns = ensure_index(columns)\n\u001b[32m    523\u001b[39m \u001b[38;5;28;01mif\u001b[39;00m index \u001b[38;5;129;01mis\u001b[39;00m \u001b[38;5;28;01mNone\u001b[39;00m:\n",
      "\u001b[36mFile \u001b[39m\u001b[32m~/git-private/lol-worlds-2025-predict/venv/lib/python3.12/site-packages/pandas/core/internals/construction.py:839\u001b[39m, in \u001b[36mto_arrays\u001b[39m\u001b[34m(data, columns, dtype)\u001b[39m\n\u001b[32m    837\u001b[39m     arr, columns = _list_of_dict_to_arrays(data, columns)\n\u001b[32m    838\u001b[39m \u001b[38;5;28;01melif\u001b[39;00m \u001b[38;5;28misinstance\u001b[39m(data[\u001b[32m0\u001b[39m], ABCSeries):\n\u001b[32m--> \u001b[39m\u001b[32m839\u001b[39m     arr, columns = \u001b[43m_list_of_series_to_arrays\u001b[49m\u001b[43m(\u001b[49m\u001b[43mdata\u001b[49m\u001b[43m,\u001b[49m\u001b[43m \u001b[49m\u001b[43mcolumns\u001b[49m\u001b[43m)\u001b[49m\n\u001b[32m    840\u001b[39m \u001b[38;5;28;01melse\u001b[39;00m:\n\u001b[32m    841\u001b[39m     \u001b[38;5;66;03m# last ditch effort\u001b[39;00m\n\u001b[32m    842\u001b[39m     data = [\u001b[38;5;28mtuple\u001b[39m(x) \u001b[38;5;28;01mfor\u001b[39;00m x \u001b[38;5;129;01min\u001b[39;00m data]\n",
      "\u001b[36mFile \u001b[39m\u001b[32m~/git-private/lol-worlds-2025-predict/venv/lib/python3.12/site-packages/pandas/core/internals/construction.py:882\u001b[39m, in \u001b[36m_list_of_series_to_arrays\u001b[39m\u001b[34m(data, columns)\u001b[39m\n\u001b[32m    880\u001b[39m     indexer = indexer_cache[\u001b[38;5;28mid\u001b[39m(index)]\n\u001b[32m    881\u001b[39m \u001b[38;5;28;01melse\u001b[39;00m:\n\u001b[32m--> \u001b[39m\u001b[32m882\u001b[39m     indexer = indexer_cache[\u001b[38;5;28mid\u001b[39m(index)] = \u001b[43mindex\u001b[49m\u001b[43m.\u001b[49m\u001b[43mget_indexer\u001b[49m\u001b[43m(\u001b[49m\u001b[43mcolumns\u001b[49m\u001b[43m)\u001b[49m\n\u001b[32m    884\u001b[39m values = extract_array(s, extract_numpy=\u001b[38;5;28;01mTrue\u001b[39;00m)\n\u001b[32m    885\u001b[39m aligned_values.append(algorithms.take_nd(values, indexer))\n",
      "\u001b[36mFile \u001b[39m\u001b[32m~/git-private/lol-worlds-2025-predict/venv/lib/python3.12/site-packages/pandas/core/indexes/base.py:3892\u001b[39m, in \u001b[36mIndex.get_indexer\u001b[39m\u001b[34m(self, target, method, limit, tolerance)\u001b[39m\n\u001b[32m   3889\u001b[39m \u001b[38;5;28mself\u001b[39m._check_indexing_method(method, limit, tolerance)\n\u001b[32m   3891\u001b[39m \u001b[38;5;28;01mif\u001b[39;00m \u001b[38;5;129;01mnot\u001b[39;00m \u001b[38;5;28mself\u001b[39m._index_as_unique:\n\u001b[32m-> \u001b[39m\u001b[32m3892\u001b[39m     \u001b[38;5;28;01mraise\u001b[39;00m InvalidIndexError(\u001b[38;5;28mself\u001b[39m._requires_unique_msg)\n\u001b[32m   3894\u001b[39m \u001b[38;5;28;01mif\u001b[39;00m \u001b[38;5;28mlen\u001b[39m(target) == \u001b[32m0\u001b[39m:\n\u001b[32m   3895\u001b[39m     \u001b[38;5;28;01mreturn\u001b[39;00m np.array([], dtype=np.intp)\n",
      "\u001b[31mInvalidIndexError\u001b[39m: Reindexing only valid with uniquely valued Index objects"
     ]
    }
   ],
   "source": [
    "df = merge_match_with_team_stats(matches, teams)"
   ]
  },
  {
   "cell_type": "code",
   "execution_count": 23,
   "id": "cee3a7a9",
   "metadata": {},
   "outputs": [
    {
     "data": {
      "text/plain": [
       "(469, 71)"
      ]
     },
     "execution_count": 23,
     "metadata": {},
     "output_type": "execute_result"
    }
   ],
   "source": [
    "df.shape"
   ]
  },
  {
   "cell_type": "code",
   "execution_count": 24,
   "id": "11042099",
   "metadata": {},
   "outputs": [
    {
     "data": {
      "text/plain": [
       "(957, 32)"
      ]
     },
     "execution_count": 24,
     "metadata": {},
     "output_type": "execute_result"
    }
   ],
   "source": [
    "teams.shape"
   ]
  },
  {
   "cell_type": "code",
   "execution_count": 25,
   "id": "927082bd",
   "metadata": {},
   "outputs": [
    {
     "data": {
      "text/plain": [
       "(469, 7)"
      ]
     },
     "execution_count": 25,
     "metadata": {},
     "output_type": "execute_result"
    }
   ],
   "source": [
    "matches.shape"
   ]
  },
  {
   "cell_type": "code",
   "execution_count": 26,
   "id": "d60215ba",
   "metadata": {},
   "outputs": [
    {
     "data": {
      "text/plain": [
       "Index(['tournament', 'match_id', 'game_in_series', 'teamA', 'teamB',\n",
       "       'teamA_win', 'date', 'A_tournament', 'A_date', 'A_Team', 'A_GP', 'A_W',\n",
       "       'A_L', 'A_AGT', 'A_K', 'A_D', 'A_KD', 'A_CKPM', 'A_GPR', 'A_GSPD',\n",
       "       'A_EGR', 'A_MLR', 'A_GD15', 'A_FB%', 'A_FT%', 'A_F3T%', 'A_PPG',\n",
       "       'A_HLD%', 'A_GRB%', 'A_FD%', 'A_DRG%', 'A_ELD%', 'A_FBN%', 'A_BN%',\n",
       "       'A_LNE%', 'A_JNG%', 'A_WPM', 'A_CWPM', 'A_WCPM', 'B_tournament',\n",
       "       'B_date', 'B_Team', 'B_GP', 'B_W', 'B_L', 'B_AGT', 'B_K', 'B_D', 'B_KD',\n",
       "       'B_CKPM', 'B_GPR', 'B_GSPD', 'B_EGR', 'B_MLR', 'B_GD15', 'B_FB%',\n",
       "       'B_FT%', 'B_F3T%', 'B_PPG', 'B_HLD%', 'B_GRB%', 'B_FD%', 'B_DRG%',\n",
       "       'B_ELD%', 'B_FBN%', 'B_BN%', 'B_LNE%', 'B_JNG%', 'B_WPM', 'B_CWPM',\n",
       "       'B_WCPM'],\n",
       "      dtype='object')"
      ]
     },
     "execution_count": 26,
     "metadata": {},
     "output_type": "execute_result"
    }
   ],
   "source": [
    "df.columns"
   ]
  },
  {
   "cell_type": "code",
   "execution_count": null,
   "id": "bfb52fed",
   "metadata": {},
   "outputs": [],
   "source": []
  }
 ],
 "metadata": {
  "kernelspec": {
   "display_name": "venv",
   "language": "python",
   "name": "python3"
  },
  "language_info": {
   "codemirror_mode": {
    "name": "ipython",
    "version": 3
   },
   "file_extension": ".py",
   "mimetype": "text/x-python",
   "name": "python",
   "nbconvert_exporter": "python",
   "pygments_lexer": "ipython3",
   "version": "3.12.3"
  }
 },
 "nbformat": 4,
 "nbformat_minor": 5
}
