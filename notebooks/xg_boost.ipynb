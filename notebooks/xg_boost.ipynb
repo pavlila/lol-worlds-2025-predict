{
 "cells": [
  {
   "cell_type": "code",
   "execution_count": 37,
   "id": "044c4588",
   "metadata": {},
   "outputs": [],
   "source": [
    "import math\n",
    "import pandas as pd\n",
    "import numpy as np\n",
    "from scipy import stats\n",
    "\n",
    "import seaborn as sns\n",
    "from sklearn import metrics, datasets\n",
    "from sklearn.model_selection import train_test_split\n",
    "import xgboost as xgb\n",
    "from sklearn.metrics import accuracy_score\n",
    "\n",
    "import matplotlib.pyplot as plt\n",
    "import matplotlib\n",
    "%matplotlib inline\n",
    "\n",
    "random_seed = 30"
   ]
  },
  {
   "cell_type": "code",
   "execution_count": 38,
   "id": "f54634e1",
   "metadata": {},
   "outputs": [],
   "source": [
    "data = pd.read_csv(\"../data/featured/data.csv\", sep=';')\n",
    "\n",
    "Xdata = data.drop('teamA_win', axis=1)\n",
    "ydata = data.teamA_win"
   ]
  },
  {
   "cell_type": "code",
   "execution_count": 39,
   "id": "80486358",
   "metadata": {},
   "outputs": [],
   "source": [
    "Xtrain, Xval, ytrain, yval = train_test_split(Xdata, ydata, test_size=0.4, random_state=random_seed)"
   ]
  },
  {
   "cell_type": "code",
   "execution_count": 40,
   "id": "9e59a545",
   "metadata": {},
   "outputs": [
    {
     "name": "stdout",
     "output_type": "stream",
     "text": [
      "Accuracy: 0.7812971342383107\n"
     ]
    }
   ],
   "source": [
    "model = xgb.XGBClassifier(\n",
    "    objective='binary:logistic',  # pro binární klasifikaci\n",
    "    eval_metric='logloss',        # metriku můžeš měnit\n",
    "    random_state=random_seed\n",
    ")\n",
    "\n",
    "# Trénování\n",
    "model.fit(Xtrain, ytrain)\n",
    "\n",
    "# Predikce\n",
    "y_pred = model.predict(Xval)\n",
    "\n",
    "# Vyhodnocení\n",
    "print(\"Accuracy:\", accuracy_score(yval, y_pred))"
   ]
  },
  {
   "cell_type": "code",
   "execution_count": 41,
   "id": "bbe2de15",
   "metadata": {},
   "outputs": [
    {
     "name": "stdout",
     "output_type": "stream",
     "text": [
      "Params: {'learning_rate': 0.2, 'max_depth': 2, 'n_estimators': 195}, Accuracy: 0.7783\n",
      "Params: {'learning_rate': 0.2, 'max_depth': 2, 'n_estimators': 196}, Accuracy: 0.7783\n",
      "Params: {'learning_rate': 0.2, 'max_depth': 2, 'n_estimators': 197}, Accuracy: 0.7783\n",
      "Params: {'learning_rate': 0.2, 'max_depth': 2, 'n_estimators': 198}, Accuracy: 0.7798\n",
      "Params: {'learning_rate': 0.2, 'max_depth': 2, 'n_estimators': 199}, Accuracy: 0.7798\n",
      "Params: {'learning_rate': 0.2, 'max_depth': 2, 'n_estimators': 200}, Accuracy: 0.7813\n",
      "Params: {'learning_rate': 0.2, 'max_depth': 2, 'n_estimators': 201}, Accuracy: 0.7843\n",
      "Params: {'learning_rate': 0.2, 'max_depth': 2, 'n_estimators': 202}, Accuracy: 0.7828\n",
      "Params: {'learning_rate': 0.2, 'max_depth': 2, 'n_estimators': 203}, Accuracy: 0.7843\n",
      "Params: {'learning_rate': 0.2, 'max_depth': 2, 'n_estimators': 204}, Accuracy: 0.7843\n",
      "Params: {'learning_rate': 0.2, 'max_depth': 3, 'n_estimators': 195}, Accuracy: 0.7934\n",
      "Params: {'learning_rate': 0.2, 'max_depth': 3, 'n_estimators': 196}, Accuracy: 0.7949\n",
      "Params: {'learning_rate': 0.2, 'max_depth': 3, 'n_estimators': 197}, Accuracy: 0.7873\n",
      "Params: {'learning_rate': 0.2, 'max_depth': 3, 'n_estimators': 198}, Accuracy: 0.7858\n",
      "Params: {'learning_rate': 0.2, 'max_depth': 3, 'n_estimators': 199}, Accuracy: 0.7888\n",
      "Params: {'learning_rate': 0.2, 'max_depth': 3, 'n_estimators': 200}, Accuracy: 0.7873\n",
      "Params: {'learning_rate': 0.2, 'max_depth': 3, 'n_estimators': 201}, Accuracy: 0.7873\n",
      "Params: {'learning_rate': 0.2, 'max_depth': 3, 'n_estimators': 202}, Accuracy: 0.7903\n",
      "Params: {'learning_rate': 0.2, 'max_depth': 3, 'n_estimators': 203}, Accuracy: 0.7903\n",
      "Params: {'learning_rate': 0.2, 'max_depth': 3, 'n_estimators': 204}, Accuracy: 0.7888\n",
      "\n",
      "Nejlepší parametry: {'learning_rate': 0.2, 'max_depth': 3, 'n_estimators': 196} s přesností 0.7949\n"
     ]
    }
   ],
   "source": [
    "import xgboost as xgb\n",
    "from sklearn.model_selection import ParameterGrid\n",
    "from sklearn.metrics import accuracy_score\n",
    "\n",
    "# Předpokládám, že máš Xtrain, ytrain, Xval, yval připravené\n",
    "\n",
    "param_grid = {\n",
    "    'max_depth': range(2,4),\n",
    "    'learning_rate': [0.2],\n",
    "    'n_estimators': range(195,205)\n",
    "}\n",
    "\n",
    "best_score = 0\n",
    "best_params = None\n",
    "best_model = None\n",
    "\n",
    "for params in ParameterGrid(param_grid):\n",
    "    model = xgb.XGBClassifier(\n",
    "        eval_metric='logloss',\n",
    "        **params,\n",
    "        random_state=random_seed\n",
    "    )\n",
    "    model.fit(Xtrain, ytrain)\n",
    "    preds = model.predict(Xval)\n",
    "    score = accuracy_score(yval, preds)\n",
    "    \n",
    "    print(f\"Params: {params}, Accuracy: {score:.4f}\")\n",
    "    \n",
    "    if score > best_score:\n",
    "        best_score = score\n",
    "        best_params = params\n",
    "        best_model = model\n",
    "\n",
    "print(f\"\\nNejlepší parametry: {best_params} s přesností {best_score:.4f}\")"
   ]
  },
  {
   "cell_type": "code",
   "execution_count": 43,
   "id": "3dc39b92",
   "metadata": {},
   "outputs": [
    {
     "name": "stdout",
     "output_type": "stream",
     "text": [
      "Accuracy: 0.7949\n"
     ]
    }
   ],
   "source": [
    "model = xgb.XGBClassifier(\n",
    "        eval_metric='logloss',\n",
    "        max_depth=3,\n",
    "        learning_rate=0.2,\n",
    "        n_estimators=196,\n",
    "    ).fit(Xtrain, ytrain)\n",
    "\n",
    "preds = model.predict(Xval)\n",
    "score = accuracy_score(yval, preds)\n",
    "\n",
    "print(f\"Accuracy: {score:.4f}\")"
   ]
  },
  {
   "cell_type": "code",
   "execution_count": null,
   "id": "2c365a6e",
   "metadata": {},
   "outputs": [],
   "source": []
  }
 ],
 "metadata": {
  "kernelspec": {
   "display_name": "venv",
   "language": "python",
   "name": "python3"
  },
  "language_info": {
   "codemirror_mode": {
    "name": "ipython",
    "version": 3
   },
   "file_extension": ".py",
   "mimetype": "text/x-python",
   "name": "python",
   "nbconvert_exporter": "python",
   "pygments_lexer": "ipython3",
   "version": "3.12.3"
  }
 },
 "nbformat": 4,
 "nbformat_minor": 5
}
